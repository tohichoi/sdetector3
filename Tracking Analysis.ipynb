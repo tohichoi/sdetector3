{
 "cells": [
  {
   "cell_type": "markdown",
   "metadata": {},
   "source": [
    "# Objective\n",
    "* 탐지 미탐지 sequence 에서 일정 구간 추출하기"
   ]
  },
  {
   "cell_type": "code",
   "execution_count": 1,
   "metadata": {},
   "outputs": [],
   "source": [
    "%load_ext autoreload\n",
    "%autoreload 2"
   ]
  },
  {
   "cell_type": "code",
   "execution_count": 2,
   "metadata": {},
   "outputs": [],
   "source": [
    "import cv2\n",
    "import logging\n",
    "import matplotlib.pyplot as plt\n",
    "import numpy as np"
   ]
  },
  {
   "cell_type": "code",
   "execution_count": 105,
   "metadata": {},
   "outputs": [],
   "source": [
    "# obj_status=[0,0,0,0,0,0,0,0,0,1,1,1,1,1,0,0,1,0,0,1,1,1,1,0,0,0,0,0,]\n",
    "pattern1=[0,0,0,0,0,0,0,0,0,1,1,1,1,1,0,0,1,0,0,1,1,1,1,0,0,0,0,0,0,0,0,0,0]\n",
    "pattern0=[0,0,0,0,0,0,0,0,0,0,0,0,0,0,0,0,0,0,0]\n",
    "pattern2=[0,0, 0]\n",
    "pattern3=[0,0,0,0,1,0,1,1,1,1,0,1,0,0]\n",
    "object_status=pattern2"
   ]
  },
  {
   "cell_type": "code",
   "execution_count": 106,
   "metadata": {},
   "outputs": [],
   "source": [
    "def smooth(object_status):\n",
    "    wlen = min(5, len(object_status))\n",
    "    T = 1. / wlen\n",
    "    w = np.ones(wlen)\n",
    "    status = np.convolve(w / w.sum(), object_status, mode='same')\n",
    "    return status"
   ]
  },
  {
   "cell_type": "code",
   "execution_count": 107,
   "metadata": {},
   "outputs": [
    {
     "name": "stdout",
     "output_type": "stream",
     "text": [
      "[0. 0. 0.]\n"
     ]
    },
    {
     "data": {
      "text/plain": [
       "3"
      ]
     },
     "execution_count": 107,
     "metadata": {},
     "output_type": "execute_result"
    }
   ],
   "source": [
    "status=smooth(object_status)\n",
    "print(status)\n",
    "n=len(status)\n",
    "n"
   ]
  },
  {
   "cell_type": "code",
   "execution_count": 110,
   "metadata": {},
   "outputs": [
    {
     "name": "stdout",
     "output_type": "stream",
     "text": [
      "Trigger = True\n",
      "연속적으로 T 이상인 구간이 없음 [0, 0, 0]\n",
      "margin 을 추가한 연속 구간 [4], None\n"
     ]
    },
    {
     "data": {
      "text/plain": [
       "[<matplotlib.lines.Line2D at 0x1cb1806f668>]"
      ]
     },
     "execution_count": 110,
     "metadata": {},
     "output_type": "execute_result"
    },
    {
     "data": {
      "image/png": "[encoded data removed]",
      "text/plain": [
       "<Figure size 432x288 with 1 Axes>"
      ]
     },
     "metadata": {
      "needs_background": "light"
     },
     "output_type": "display_data"
    }
   ],
   "source": [
    "true_region_start=3\n",
    "true_region_end=29\n",
    "frame_margin = 3\n",
    "\n",
    "# 언제 trigger 할 것인가?\n",
    "# 마지막이 0이고 왼쪽으로 T만큼 0이 반복되면 trigger\n",
    "idx0=np.argwhere(status[::-1] < T)\n",
    "trigger=np.sum(idx0[0:frame_margin])==np.sum(range(frame_margin))\n",
    "print(f'Trigger = {trigger}')\n",
    "\n",
    "# 1st step : 연속적으로 T 이상인 index를 찾자\n",
    "idx=np.argwhere(status >= T)\n",
    "if len(idx) == 0:\n",
    "    del object_status[0:n-frame_margin]\n",
    "    print(f'연속적으로 T 이상인 구간이 없음 {object_status}')\n",
    "else:\n",
    "    s0=idx[0]\n",
    "    e0=idx[-1]\n",
    "    print(f'연속적으로 T 이상인 구간 {s0} {e0}')\n",
    "    \n",
    "# 2nd step : s0, e0 에서 frame_margin 만큼 확장하자\n",
    "# 2-1 : s0-frame_margin >= 0   # s1 = s0-frame_margin\n",
    "# 2-2 : s0-frame_margin < 0    # s1 = max(0, s0-frame_margin)\n",
    "s1 = max(0, s0-frame_margin)\n",
    "# 2-3 : e0+frame_margin < n    # e1 = e0+frame_margin\n",
    "if e0+frame_margin < n:\n",
    "    e1 = e0+frame_margin\n",
    "else:\n",
    "# 2-4 ; e0+frame_margin >= n    # e1 = None (다음 state 가 1이될 가능성이 있으므로 기다린다)\n",
    "    e1 = None\n",
    "    \n",
    "print(f'margin 을 추가한 연속 구간 {s1}, {e1}')\n",
    "\n",
    "\n",
    "x=np.linspace(0, n, n)\n",
    "plt.plot(x, status)\n",
    "plt.plot(x, np.ones(n)*T)\n",
    "plt.plot(x, np.array(object_status), 'o')\n",
    "plt.plot([s1, e1], [1, 1])\n",
    "\n",
    "# step#3 : 0 부터 e1 까지 지운다\n"
   ]
  },
  {
   "cell_type": "code",
   "execution_count": null,
   "metadata": {},
   "outputs": [],
   "source": []
  }
 ],
 "metadata": {
  "kernelspec": {
   "display_name": "Python 3",
   "language": "python",
   "name": "python3"
  },
  "language_info": {
   "codemirror_mode": {
    "name": "ipython",
    "version": 3
   },
   "file_extension": ".py",
   "mimetype": "text/x-python",
   "name": "python",
   "nbconvert_exporter": "python",
   "pygments_lexer": "ipython3",
   "version": "3.7.3"
  }
 },
 "nbformat": 4,
 "nbformat_minor": 4
}
