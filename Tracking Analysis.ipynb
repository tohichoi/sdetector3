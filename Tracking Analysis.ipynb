{
 "cells": [
  {
   "cell_type": "markdown",
   "metadata": {},
   "source": [
    "# Objective\n",
    "* 탐지 미탐지 sequence 에서 일정 구간 추출하기"
   ]
  },
  {
   "cell_type": "code",
   "execution_count": 1,
   "metadata": {},
   "outputs": [],
   "source": [
    "%load_ext autoreload\n",
    "%autoreload 2"
   ]
  },
  {
   "cell_type": "code",
   "execution_count": 118,
   "metadata": {},
   "outputs": [],
   "source": [
    "import cv2\n",
    "import logging\n",
    "import matplotlib.pyplot as plt\n",
    "import numpy as np\n",
    "import random\n",
    "\n",
    "np.set_printoptions(precision=1)"
   ]
  },
  {
   "cell_type": "code",
   "execution_count": 76,
   "metadata": {},
   "outputs": [],
   "source": [
    "def smooth(object_status):\n",
    "    wlen = min(5, len(object_status))\n",
    "    T = 1. / wlen\n",
    "    w = np.ones(wlen)\n",
    "    status = np.convolve(w / w.sum(), object_status, mode='same')\n",
    "    \n",
    "    return status, T"
   ]
  },
  {
   "cell_type": "code",
   "execution_count": 114,
   "metadata": {
    "scrolled": true
   },
   "outputs": [
    {
     "name": "stdout",
     "output_type": "stream",
     "text": [
      "[0.  0.  0.2 0.2 0.4 0.6 0.8 0.8 0.8 0.8 0.6 0.4 0.2 0.2]\n"
     ]
    }
   ],
   "source": [
    "# obj_status=[0,0,0,0,0,0,0,0,0,1,1,1,1,1,0,0,1,0,0,1,1,1,1,0,0,0,0,0,]\n",
    "pattern1=[0,0,0,0,0,0,0,0,0,1,1,1,1,1,0,0,1,0,0,1,1,1,1,0,0,0,0,0,0,0,0,0,0]\n",
    "pattern0=[0,0,0,0,0,0,0,0,0,0,0,0,0,0,0,0,0,0,0]\n",
    "pattern2=[0,0,0]\n",
    "pattern3=[0,0,0,0,1,0,1,1,1,1,0,1,0,0]\n",
    "pattern4=[0,0,0,0,0,0,0,0,1,1,1,1,0,0,0,0,0,0,0,0,0,0]\n",
    "pattern = [ random.randint(0, 1) for x in range(random.randint(5, 100)) ]\n",
    "pattern"
   ]
  },
  {
   "cell_type": "code",
   "execution_count": 126,
   "metadata": {},
   "outputs": [
    {
     "name": "stdout",
     "output_type": "stream",
     "text": [
      "[0.4 0.6 0.6 0.8 0.6 0.4 0.4 0.6 0.4 0.6 0.8 0.8 0.8 0.8 0.8 0.6 0.4 0.2\n",
      " 0.2 0.2 0.4 0.4 0.4 0.6 0.4 0.2 0.2 0.2 0.2 0.2 0.2 0.4 0.6 0.4 0.6 0.8\n",
      " 0.8 0.8 0.8 0.6 0.6 0.4 0.2 0.4 0.4 0.4 0.6 0.6 0.4 0.6 0.6 0.4 0.6 0.6\n",
      " 0.4]\n",
      "frame_margin : 6\n",
      "Trigger = False\n",
      "연속적으로 T 이상인 구간 0 54\n",
      "margin 을 추가한 연속 구간 0, None\n",
      "0, 54, 0, None\n",
      "None included\n",
      "object_status : [0, 1, 1, 1, 0, 1, 0, 0, 1, 1, 0, 1, 1, 1, 1, 0, 1, 0, 0, 0, 0, 1, 1, 0, 0, 1, 0, 0, 0, 0, 1, 0, 0, 1, 1, 0, 1, 1, 1, 1, 0, 0, 1, 0, 0, 1, 0, 1, 1, 0, 0, 1, 1, 0, 1]\n"
     ]
    },
    {
     "data": {
      "image/png": "[encoded data removed]",
      "text/plain": [
       "<Figure size 1440x216 with 3 Axes>"
      ]
     },
     "metadata": {
      "needs_background": "light"
     },
     "output_type": "display_data"
    }
   ],
   "source": [
    "object_status=pattern\n",
    "\n",
    "status, T=smooth(object_status)\n",
    "print(status)\n",
    "n=len(status)\n",
    "\n",
    "true_region_start=3\n",
    "true_region_end=29\n",
    "frame_margin = int(round(1./T + 0.5))\n",
    "print(f'frame_margin : {frame_margin}')\n",
    "\n",
    "fig, ax=plt.subplots(1, 3, figsize=(20, 3))\n",
    "x=range(n)\n",
    "ax[0].plot(x, status)\n",
    "ax[0].plot(x, np.ones(n)*T)\n",
    "ax[0].plot(x, np.array(object_status), 'o')\n",
    "\n",
    "# 언제 trigger 할 것인가?\n",
    "# 마지막이 0이고 왼쪽으로 T만큼 0이 반복되면 trigger\n",
    "idx0=np.argwhere(status[::-1] < T)\n",
    "trigger=np.sum(idx0[0:frame_margin])==np.sum(range(frame_margin))\n",
    "print(f'Trigger = {trigger}')\n",
    "\n",
    "s0=None\n",
    "e0=None\n",
    "# 1st step : 연속적으로 T 이상인 index를 찾자\n",
    "idx=np.argwhere(status >= T)\n",
    "if len(idx) == 0:\n",
    "    del object_status[0:n-frame_margin]\n",
    "    print(f'연속적으로 T 이상인 구간이 없음 {object_status}')\n",
    "else:\n",
    "    s0=int(idx[0])\n",
    "    e0=int(idx[-1])\n",
    "    print(f'연속적으로 T 이상인 구간 {s0} {e0}')\n",
    "\n",
    "s1=None\n",
    "e1=None\n",
    "if s0 is not None and e0 is not None:\n",
    "    # 2nd step : s0, e0 에서 frame_margin 만큼 확장하자\n",
    "    # 2-1 : s0-frame_margin >= 0   # s1 = s0-frame_margin\n",
    "    # 2-2 : s0-frame_margin < 0    # s1 = max(0, s0-frame_margin)\n",
    "    s1 = max(0, s0-frame_margin)\n",
    "    # 2-3 : e0+frame_margin < n    # e1 = e0+frame_margin\n",
    "    if e0+frame_margin < n:\n",
    "        e1 = e0+frame_margin\n",
    "    else:\n",
    "    # 2-4 ; e0+frame_margin >= n    # e1 = None (다음 state 가 1이될 가능성이 있으므로 기다린다)\n",
    "        e1 = None\n",
    "    \n",
    "print(f'margin 을 추가한 연속 구간 {s1}, {e1}')\n",
    "\n",
    "ax[0].plot([s1, e1], [1, 1], 'r')\n",
    "\n",
    "object_sequence=None\n",
    "# step#3 : 0 부터 e1 까지 지운다\n",
    "# if len([x is None for x in [s0, e0, s1, e1]])==0:\n",
    "print(f'{s0}, {e0}, {s1}, {e1}')\n",
    "if [s0, e0, s1, e1].count(None) < 1:\n",
    "#     object_sequence=display_data[s1:e1]\n",
    "    object_sequence=status[s1:e1]\n",
    "#     del object_status[e1:]\n",
    "    del object_status[:e1]\n",
    "#     status = np.delete(status, np.s_[e1:])\n",
    "#     status = np.delete(status, np.s_[:s1])\n",
    "    status = np.delete(status, np.s_[:e1])\n",
    "else:\n",
    "    print(f'None included')\n",
    "\n",
    "n=len(status)\n",
    "x=range(n)\n",
    "ax[1].plot(x, status)\n",
    "ax[1].plot(x, np.ones(n)*T)\n",
    "ax[1].plot(x, np.array(object_status), 'o')\n",
    "print(f'object_status : {object_status}')\n",
    "\n",
    "if object_sequence is not None:\n",
    "    n=len(object_sequence)\n",
    "    x=range(n)\n",
    "    ax[2].plot(x, object_sequence)\n",
    "    # ax[2].plot(x, np.ones(n)*T)\n",
    "    # ax[2].plot(x, np.array(object_status), 'o')\n",
    "    print(f'object_status : {object_status}')\n"
   ]
  },
  {
   "cell_type": "code",
   "execution_count": null,
   "metadata": {},
   "outputs": [],
   "source": []
  },
  {
   "cell_type": "code",
   "execution_count": null,
   "metadata": {},
   "outputs": [],
   "source": []
  }
 ],
 "metadata": {
  "kernelspec": {
   "display_name": "Python 3",
   "language": "python",
   "name": "python3"
  },
  "language_info": {
   "codemirror_mode": {
    "name": "ipython",
    "version": 3
   },
   "file_extension": ".py",
   "mimetype": "text/x-python",
   "name": "python",
   "nbconvert_exporter": "python",
   "pygments_lexer": "ipython3",
   "version": "3.7.3"
  }
 },
 "nbformat": 4,
 "nbformat_minor": 4
}
